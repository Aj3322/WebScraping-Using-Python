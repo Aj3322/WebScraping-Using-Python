{
 "cells": [
  {
   "cell_type": "markdown",
   "id": "7af0449d-5be9-4b7a-b44d-2c9fc232f883",
   "metadata": {},
   "source": [
    "# YouTube Scraper"
   ]
  },
  {
   "cell_type": "markdown",
   "id": "22aafbcf-c90b-4cbb-b66d-045d0e774fa7",
   "metadata": {},
   "source": [
    "### Libraries Included"
   ]
  },
  {
   "cell_type": "code",
   "execution_count": 1,
   "id": "dc801595-7217-4fd1-913f-06e4ad997954",
   "metadata": {},
   "outputs": [],
   "source": [
    "from bs4 import BeautifulSoup\n",
    "from tqdm import tqdm\n",
    "from selenium import webdriver\n",
    "from selenium.webdriver.chrome.service import Service\n",
    "from webdriver_manager.chrome import ChromeDriverManager\n",
    "from selenium.webdriver.support.ui import WebDriverWait\n",
    "from selenium.webdriver.support import expected_conditions as EC\n",
    "import time\n",
    "import pandas as pd\n",
    "import requests \n",
    "from datetime import datetime"
   ]
  },
  {
   "cell_type": "markdown",
   "id": "2c56a16a-368e-4005-ae5e-a49df0c92893",
   "metadata": {},
   "source": [
    "### Starting the ChromeDriver"
   ]
  },
  {
   "cell_type": "code",
   "execution_count": 2,
   "id": "c5c4d100-69b0-41d4-a78e-1a197724038b",
   "metadata": {},
   "outputs": [],
   "source": [
    "browser=webdriver.Chrome(service=Service(ChromeDriverManager().install()))"
   ]
  },
  {
   "cell_type": "markdown",
   "id": "a5724c12-2302-4044-ae49-7287a2d4d174",
   "metadata": {},
   "source": [
    "### Searching on Browser with Url"
   ]
  },
  {
   "cell_type": "code",
   "execution_count": 3,
   "id": "42ab3a2a-d592-42ca-9409-fbace98af273",
   "metadata": {},
   "outputs": [],
   "source": [
    "link = 'https://www.youtube.com/@wscubetech/videos'\n",
    "browser.get(link)"
   ]
  },
  {
   "cell_type": "markdown",
   "id": "494af0fb-5568-4924-a47a-9248e101d051",
   "metadata": {},
   "source": [
    "### Scrolling infinitely so that data can reach the bottom of the page and get all the data "
   ]
  },
  {
   "cell_type": "code",
   "execution_count": null,
   "id": "97f9f407-64fd-48e5-882c-bd4eaa9fd003",
   "metadata": {},
   "outputs": [],
   "source": [
    "for i in tqdm(range(0,500000,1000)):\n",
    "    browser.execute_script(\"window.scrollTo(0,\" + str(i) + \")\")\n",
    "    time.sleep(1)"
   ]
  },
  {
   "cell_type": "markdown",
   "id": "80d7dfcf-6ca0-4966-8739-e6c9af1b6696",
   "metadata": {},
   "source": [
    "### Parsing the response into Soup"
   ]
  },
  {
   "cell_type": "code",
   "execution_count": 6,
   "id": "a2e2b030-8028-4577-bb1c-542d19bdc61e",
   "metadata": {},
   "outputs": [],
   "source": [
    "soup = BeautifulSoup(browser.page_source,'html.parser')\n",
    "x = soup.text.replace('\\n\\n', '')"
   ]
  },
  {
   "cell_type": "markdown",
   "id": "f2425577-905e-4c5f-9801-8def7c21a225",
   "metadata": {},
   "source": [
    "### Extracting the data from response"
   ]
  },
  {
   "cell_type": "code",
   "execution_count": 45,
   "id": "0e606351-aee3-468b-b7a5-ca3cf9d44207",
   "metadata": {},
   "outputs": [
    {
     "name": "stderr",
     "output_type": "stream",
     "text": [
      "100%|█| 4648/4648 [00:03<00:00, 1297.99it/s\n"
     ]
    }
   ],
   "source": [
    "import re\n",
    "data=[]\n",
    "for sp in tqdm(soup.find_all('ytd-rich-item-renderer')):\n",
    "    try:\n",
    "        thambnail_img =sp.find('img').get('src').split('?')[0]\n",
    "    except:\n",
    "       thambnail_img=sp.find('img').get('src') \n",
    "    Vedio_link = \"https://www.youtube.com\"+sp.find('a').get('href')\n",
    "    title = sp.find('yt-formatted-string',class_=\"style-scope ytd-rich-grid-media\").text\n",
    "    time = sp.find('yt-formatted-string').text\n",
    "    # Provided string\n",
    "    string = sp.find('yt-formatted-string',class_=\"style-scope ytd-rich-grid-media\").get('aria-label')\n",
    "    # Regular expression pattern to match the views count\n",
    "    pattern = r'\\b(\\d{1,3}(?:,\\d{3})*)\\b views'\n",
    "    # Using regular expression to find the views count\n",
    "    views_match = re.search(pattern, sp.find('yt-formatted-string',class_=\"style-scope ytd-rich-grid-media\").get('aria-label'))\n",
    "    if views_match:\n",
    "        views = int(views_match.group(1).replace(',', ''))\n",
    "    else:\n",
    "        print(\"No views found.\")\n",
    "\n",
    "    data.append([title,thambnail_img,Vedio_link,views,time])\n",
    "    \n",
    "  "
   ]
  },
  {
   "cell_type": "code",
   "execution_count": 27,
   "id": "b22c82b5-ff66-454f-b132-7cf8eaefdd11",
   "metadata": {},
   "outputs": [
    {
     "name": "stdout",
     "output_type": "stream",
     "text": [
      "How to do On-Page SEO in 2024? (7 Checklists) | Keyword, URL, Meta Tags & Image Optimization by WsCube Tech 3,682 views 15 hours ago 39 minutes\n",
      "\n",
      "How to do On-Page SEO in 2024? (7 Checklists) | Keyword, URL, Meta Tags & Image Optimization\n",
      "\n",
      "3,682\n"
     ]
    }
   ],
   "source": [
    "# print(Vedio_link)\n",
    "print(details)\n",
    "print()\n",
    "print(title)\n",
    "print()\n",
    "print(views)\n",
    "# print(time)"
   ]
  },
  {
   "cell_type": "code",
   "execution_count": 34,
   "id": "dabfa5b4-60ff-4cae-8095-4fc13a812b85",
   "metadata": {},
   "outputs": [
    {
     "data": {
      "text/plain": [
       "4648"
      ]
     },
     "execution_count": 34,
     "metadata": {},
     "output_type": "execute_result"
    }
   ],
   "source": [
    "len(data)"
   ]
  },
  {
   "cell_type": "markdown",
   "id": "a9fdcb3c-a3b3-4b16-8ffc-4b235a08a3d6",
   "metadata": {},
   "source": [
    "### Creating DataFrame"
   ]
  },
  {
   "cell_type": "code",
   "execution_count": 35,
   "id": "768306b7-9a77-4e9d-a359-270fb14e94aa",
   "metadata": {},
   "outputs": [],
   "source": [
    "df=pd.DataFrame(data , columns=['Title','Thumb_img','Vedio_link','No_Views','Duration'] )"
   ]
  },
  {
   "cell_type": "code",
   "execution_count": 43,
   "id": "74a5702b-e0da-4b37-bb7d-b2fe445513df",
   "metadata": {},
   "outputs": [
    {
     "data": {
      "text/plain": [
       "0        3682\n",
       "1        6530\n",
       "2        7635\n",
       "3        8264\n",
       "4        3425\n",
       "        ...  \n",
       "4643    11738\n",
       "4644    48894\n",
       "4645     8695\n",
       "4646    13686\n",
       "4647     5568\n",
       "Name: No_Views, Length: 4648, dtype: int64"
      ]
     },
     "execution_count": 43,
     "metadata": {},
     "output_type": "execute_result"
    }
   ],
   "source": [
    "df['No_Views']"
   ]
  },
  {
   "cell_type": "markdown",
   "id": "006b421a",
   "metadata": {},
   "source": [
    "### Checking for missing values"
   ]
  },
  {
   "cell_type": "code",
   "execution_count": 46,
   "id": "0b6102b9-36fb-44f7-b260-6d0e6603fcb3",
   "metadata": {},
   "outputs": [
    {
     "data": {
      "text/plain": [
       "Title           0\n",
       "Thumb_img     951\n",
       "Vedio_link      0\n",
       "No_Views        0\n",
       "Duration        0\n",
       "dtype: int64"
      ]
     },
     "execution_count": 46,
     "metadata": {},
     "output_type": "execute_result"
    }
   ],
   "source": [
    "df.isna().sum()"
   ]
  },
  {
   "cell_type": "markdown",
   "id": "fbff83e3-9c60-414b-b3ff-01acc780ee34",
   "metadata": {},
   "source": [
    "### Duration into DateTime"
   ]
  },
  {
   "cell_type": "code",
   "execution_count": 47,
   "id": "803b1ccc-0cc2-4e36-9aec-bfc64e4dd10c",
   "metadata": {},
   "outputs": [],
   "source": [
    "# Convert the 'Duration' column to datetime\n",
    "# time_list = []\n",
    "# for time_str in df['Duration']:\n",
    "#     try:\n",
    "#         time_obj = datetime.strptime(time_str, \"%M:%S\")\n",
    "#     except ValueError:\n",
    "#         try:\n",
    "#             time_obj = datetime.strptime(time_str, \"%H:%M\")\n",
    "#         except ValueError:\n",
    "#             try:\n",
    "#                 time_obj = datetime.strptime(time_str, \"%H:%M:%S\")\n",
    "#             except ValueError:\n",
    "#                 print(f\"Illegal time format: {time_str}\")\n",
    "#                 continue\n",
    "#     time_list.append(time_obj)\n",
    "# df['TimeStamp']= time_list\n"
   ]
  },
  {
   "cell_type": "markdown",
   "id": "8898657d-a93e-4931-8cc5-811ffde5ec7b",
   "metadata": {},
   "source": [
    "### Saving the data"
   ]
  },
  {
   "cell_type": "code",
   "execution_count": 48,
   "id": "e88fab72-4296-43f4-a990-41d5d8ebaf5f",
   "metadata": {},
   "outputs": [],
   "source": [
    "df.to_csv('Ws_Cube__data.csv')"
   ]
  },
  {
   "cell_type": "code",
   "execution_count": null,
   "id": "23e86ea8-a081-4f3e-94af-febc76511c65",
   "metadata": {},
   "outputs": [],
   "source": [
    "df.head()"
   ]
  },
  {
   "cell_type": "code",
   "execution_count": null,
   "id": "f435e288-500e-4906-a5c8-9125a2aaae65",
   "metadata": {},
   "outputs": [],
   "source": []
  },
  {
   "cell_type": "code",
   "execution_count": 32,
   "id": "7de1a43a-9118-42c5-83a0-3f145380753a",
   "metadata": {},
   "outputs": [],
   "source": []
  },
  {
   "cell_type": "code",
   "execution_count": null,
   "id": "1f35f61e-5f54-4404-b409-685e5221b438",
   "metadata": {},
   "outputs": [],
   "source": []
  },
  {
   "cell_type": "code",
   "execution_count": null,
   "id": "e18ba393-b93b-4414-ae3b-45677584ed7a",
   "metadata": {},
   "outputs": [],
   "source": []
  }
 ],
 "metadata": {
  "kernelspec": {
   "display_name": "Python 3 (ipykernel)",
   "language": "python",
   "name": "python3"
  },
  "language_info": {
   "codemirror_mode": {
    "name": "ipython",
    "version": 3
   },
   "file_extension": ".py",
   "mimetype": "text/x-python",
   "name": "python",
   "nbconvert_exporter": "python",
   "pygments_lexer": "ipython3",
   "version": "3.11.7"
  }
 },
 "nbformat": 4,
 "nbformat_minor": 5
}
